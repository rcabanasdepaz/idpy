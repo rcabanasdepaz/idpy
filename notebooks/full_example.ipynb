{
 "cells": [
  {
   "cell_type": "code",
   "execution_count": null,
   "metadata": {},
   "outputs": [],
   "source": [
    "import idpy"
   ]
  },
  {
   "cell_type": "code",
   "execution_count": 1,
   "metadata": {},
   "outputs": [
    {
     "name": "stdout",
     "output_type": "stream",
     "text": [
      "/Users/rcabanas/GoogleDrive/IDSIA/dev/idpy\n"
     ]
    }
   ],
   "source": [
    "import os\n",
    "os.chdir(\"../\")\n",
    "print(os.getcwd())"
   ]
  },
  {
   "cell_type": "code",
   "execution_count": 15,
   "metadata": {},
   "outputs": [
    {
     "name": "stdout",
     "output_type": "stream",
     "text": [
      "<IDiagram [T, D], [C, P], [S, O], [u(T), u(D,O), p(S|T,O), p(O)]>\n",
      "\n",
      "====== Results ====== \n",
      "MEU = 22.5\n",
      "optimal policy for T:\n",
      "<Potential util(), cardinality = ()>\n",
      "0\n",
      "<Potential util(T), cardinality = (T:2)>\n",
      "[22.5 20. ]\n",
      "----\n",
      "optimal policy for D:\n",
      "<Potential util(S,T), cardinality = (S:3,T:2)>\n",
      "[[0 0]\n",
      " [0 0]\n",
      " [1 0]]\n",
      "<Potential util(S,T,D), cardinality = (S:3,T:2,D:2)>\n",
      "[[[ 87.5          0.        ]\n",
      "  [ 20.           0.        ]]\n",
      "\n",
      " [[ 32.85714286   0.        ]\n",
      "  [ 20.           0.        ]]\n",
      "\n",
      " [[-30.48780488   0.        ]\n",
      "  [ 20.           0.        ]]]\n",
      "----\n"
     ]
    }
   ],
   "source": [
    "from idpy.models.examples import wildcatter\n",
    "from idpy.inference.variable_elimination import *\n",
    "\n",
    "idiag = wildcatter()\n",
    "print(idiag)\n",
    "\n",
    "removal_order = [\"O\", \"D\", \"S\", \"T\"]\n",
    "inf = VariableElimination(idiag, removal_order)\n",
    "\n",
    "inf.run()\n",
    "\n",
    "\n",
    "print(\"\\n====== Results ====== \")\n",
    "print(f\"MEU = {inf.meu}\")\n",
    "\n",
    "for d in idiag.decisions:\n",
    "    print(f\"optimal policy for {d}:\")\n",
    "    pol_d = inf.optimal_policy[d]\n",
    "    print(pol_d)\n",
    "    print(pol_d.values)\n",
    "    \n",
    "    eu_d = inf.expected_util[d]\n",
    "    print(eu_d)\n",
    "    print(eu_d.values)\n",
    "    print(\"----\")\n"
   ]
  },
  {
   "cell_type": "code",
   "execution_count": null,
   "metadata": {},
   "outputs": [],
   "source": [
    "inf.idiag"
   ]
  },
  {
   "cell_type": "code",
   "execution_count": null,
   "metadata": {},
   "outputs": [],
   "source": []
  }
 ],
 "metadata": {
  "kernelspec": {
   "display_name": "Python 3",
   "language": "python",
   "name": "python3"
  },
  "language_info": {
   "codemirror_mode": {
    "name": "ipython",
    "version": 3
   },
   "file_extension": ".py",
   "mimetype": "text/x-python",
   "name": "python",
   "nbconvert_exporter": "python",
   "pygments_lexer": "ipython3",
   "version": "3.6.8"
  }
 },
 "nbformat": 4,
 "nbformat_minor": 2
}
